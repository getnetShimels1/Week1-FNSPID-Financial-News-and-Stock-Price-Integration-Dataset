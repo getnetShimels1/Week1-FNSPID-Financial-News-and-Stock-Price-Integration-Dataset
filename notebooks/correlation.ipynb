{
 "cells": [
  {
   "cell_type": "code",
   "execution_count": null,
   "metadata": {},
   "outputs": [],
   "source": [
    "# Filter published news that are related to the seven stocks (AAPL', 'AMZN', 'GOOG', 'META', 'NVDA', 'TSLA', 'MSFT)"
   ]
  },
  {
   "cell_type": "code",
   "execution_count": 2,
   "metadata": {},
   "outputs": [
    {
     "name": "stdout",
     "output_type": "stream",
     "text": [
      "         Unnamed: 0                                           headline  \\\n",
      "6680           7120  Tech Stocks And FAANGS Strong Again To Start D...   \n",
      "6681           7121      10 Biggest Price Target Changes For Wednesday   \n",
      "6682           7122  Benzinga Pro's Top 5 Stocks To Watch For Wed.,...   \n",
      "6683           7123  Deutsche Bank Maintains Buy on Apple, Raises P...   \n",
      "6684           7124  Apple To Let Users Trade In Their Mac Computer...   \n",
      "...             ...                                                ...   \n",
      "1257091     1263065   Electrek.Co Tweet: Tesla's head of Europe is out   \n",
      "1257092     1263066  Tesla's Q2 Delivery Number Could Cause A Big Move   \n",
      "1257093     1263067  'Tesla Electric Airplane? Elon Musk sees elect...   \n",
      "1257094     1263068  UPDATE: JMP Reiterates Outperform, $347 Target...   \n",
      "1257095     1263069  Tesla shares are trading higher after JMP Secu...   \n",
      "\n",
      "                                                       url          publisher  \\\n",
      "6680     https://www.benzinga.com/government/20/06/1622...         JJ Kinahan   \n",
      "6681     https://www.benzinga.com/analyst-ratings/price...         Lisa Levin   \n",
      "6682     https://www.benzinga.com/short-sellers/20/06/1...  Benzinga Newsdesk   \n",
      "6683     https://www.benzinga.com/news/20/06/16219873/d...  Benzinga Newsdesk   \n",
      "6684     https://www.benzinga.com/news/20/06/16218697/a...      Neer Varshney   \n",
      "...                                                    ...                ...   \n",
      "1257091  https://www.benzinga.com/news/19/07/14015998/e...      Charles Gross   \n",
      "1257092  https://www.benzinga.com/analyst-ratings/analy...       Wayne Duggan   \n",
      "1257093  https://www.benzinga.com/news/19/07/14011389/t...  Benzinga Newsdesk   \n",
      "1257094  https://www.benzinga.com/analyst-ratings/analy...  Benzinga_Newsdesk   \n",
      "1257095  https://www.benzinga.com/markets/wiim/19/07/14...         Hal Lindon   \n",
      "\n",
      "                              date stock  \n",
      "6680     2020-06-10 11:33:26-04:00  AAPL  \n",
      "6681     2020-06-10 08:14:08-04:00  AAPL  \n",
      "6682     2020-06-10 07:53:47-04:00  AAPL  \n",
      "6683     2020-06-10 07:19:25-04:00  AAPL  \n",
      "6684     2020-06-10 06:27:11-04:00  AAPL  \n",
      "...                            ...   ...  \n",
      "1257091        2019-07-02 00:00:00  TSLA  \n",
      "1257092        2019-07-01 00:00:00  TSLA  \n",
      "1257093        2019-07-01 00:00:00  TSLA  \n",
      "1257094        2019-07-01 00:00:00  TSLA  \n",
      "1257095        2019-07-01 00:00:00  TSLA  \n",
      "\n",
      "[6939 rows x 6 columns]\n"
     ]
    }
   ],
   "source": [
    "import pandas as pd\n",
    "import os\n",
    "\n",
    "# Specify the file path\n",
    "file_path_stock = r'../raw_data/raw_analyst_ratings.csv'\n",
    "\n",
    "# Load the data\n",
    "df = pd.read_csv(file_path_stock)\n",
    "\n",
    "# List of stock symbols you're interested in\n",
    "stock_symbols = ['AAPL', 'AMZN', 'GOOG', 'META', 'NVDA', 'TSLA', 'MSFT']\n",
    "\n",
    "# Filter the dataset where the 'stock' column contains any of the stock symbols\n",
    "filtered_data = df[df['stock'].isin(stock_symbols)]\n",
    "\n",
    "# Save the filtered data to a new CSV file in the same folder\n",
    "output_path = os.path.join(os.path.dirname(file_path_stock), 'filtered_stock_news.csv')\n",
    "filtered_data.to_csv(output_path, index=False)\n",
    "\n",
    "# Optionally, display the filtered data\n",
    "print(filtered_data)\n"
   ]
  },
  {
   "cell_type": "code",
   "execution_count": 3,
   "metadata": {},
   "outputs": [
    {
     "name": "stdout",
     "output_type": "stream",
     "text": [
      "  Stock Symbol  News Count\n",
      "0         NVDA        3146\n",
      "1         TSLA        1875\n",
      "2         GOOG        1199\n",
      "3         AAPL         441\n",
      "4         AMZN         278\n"
     ]
    }
   ],
   "source": [
    "# Summary of published news for each stocks\n",
    "\n",
    "# Specify the file path for the filtered data\n",
    "filtered_data_path = r'../raw_data/filtered_stock_news.csv'\n",
    "\n",
    "# Load the filtered data\n",
    "filtered_data = pd.read_csv(filtered_data_path)\n",
    "\n",
    "# Get the count of news articles published for each stock symbol\n",
    "news_count_summary = filtered_data['stock'].value_counts().reset_index()\n",
    "\n",
    "# Rename columns for better understanding\n",
    "news_count_summary.columns = ['Stock Symbol', 'News Count']\n",
    "\n",
    "# Save the summary to a new CSV file\n",
    "output_summary_path = os.path.join(os.path.dirname(filtered_data_path), 'news_count_summary.csv')\n",
    "news_count_summary.to_csv(output_summary_path, index=False)\n",
    "\n",
    "# Optionally, display the summary\n",
    "print(news_count_summary)\n"
   ]
  },
  {
   "cell_type": "code",
   "execution_count": 7,
   "metadata": {},
   "outputs": [
    {
     "name": "stdout",
     "output_type": "stream",
     "text": [
      "  Stock Symbol  Original News Count  Filtered News Count\n",
      "0         AAPL                  441                  441\n",
      "1         AMZN                  278                  278\n",
      "2         GOOG                 1199                 1199\n",
      "3         META                    0                    0\n",
      "4         NVDA                 3146                 3146\n",
      "5         TSLA                 1875                 1875\n",
      "6         MSFT                    0                    0\n"
     ]
    }
   ],
   "source": [
    "import pandas as pd\n",
    "import os\n",
    "\n",
    "# File paths for both original and filtered data\n",
    "file_path_stock = r'../raw_data/raw_analyst_ratings.csv'\n",
    "filtered_data_path = r'../raw_data/filtered_stock_news.csv'\n",
    "\n",
    "\n",
    "# Define the stock symbols of interest\n",
    "stock_symbols_of_interest = ['AAPL', 'AMZN', 'GOOG', 'META', 'NVDA', 'TSLA', 'MSFT']\n",
    "\n",
    "\n",
    "# Load the original dataset\n",
    "df = pd.read_csv(file_path_stock)\n",
    "\n",
    "# Filter the original dataset for only the relevant stock symbols\n",
    "filtered_original_data = df[df['stock'].isin(stock_symbols_of_interest)]\n",
    "\n",
    "# Count the occurrences of each stock symbol in the filtered original data\n",
    "original_data_counts = filtered_original_data['stock'].value_counts()\n",
    "\n",
    "# Load the filtered dataset\n",
    "filtered_data = pd.read_csv(filtered_data_path)\n",
    "\n",
    "# Filter the filtered dataset for only the relevant stock symbols\n",
    "filtered_filtered_data = filtered_data[filtered_data['stock'].isin(stock_symbols_of_interest)]\n",
    "\n",
    "# Count the occurrences of each stock symbol in the filtered filtered data\n",
    "filtered_data_counts = filtered_filtered_data['stock'].value_counts()\n",
    "\n",
    "# Merge the two counts based on the stock symbols\n",
    "comparison_df = pd.DataFrame({\n",
    "    'Stock Symbol': stock_symbols_of_interest,\n",
    "    'Original News Count': original_data_counts.reindex(stock_symbols_of_interest, fill_value=0).values,\n",
    "    'Filtered News Count': filtered_data_counts.reindex(stock_symbols_of_interest, fill_value=0).values\n",
    "})\n",
    "\n",
    "# Save the comparison to a CSV file\n",
    "output_comparison_path = os.path.join(os.path.dirname(file_path_stock), 'stock_news_comparison.csv')\n",
    "comparison_df.to_csv(output_comparison_path, index=False)\n",
    "\n",
    "# Optionally, display the comparison\n",
    "print(comparison_df)\n",
    "\n",
    "\n"
   ]
  }
 ],
 "metadata": {
  "kernelspec": {
   "display_name": "venv",
   "language": "python",
   "name": "python3"
  },
  "language_info": {
   "codemirror_mode": {
    "name": "ipython",
    "version": 3
   },
   "file_extension": ".py",
   "mimetype": "text/x-python",
   "name": "python",
   "nbconvert_exporter": "python",
   "pygments_lexer": "ipython3",
   "version": "3.13.1"
  }
 },
 "nbformat": 4,
 "nbformat_minor": 2
}
